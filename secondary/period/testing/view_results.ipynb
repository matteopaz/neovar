{
 "cells": [
  {
   "cell_type": "code",
   "execution_count": 1,
   "metadata": {},
   "outputs": [],
   "source": [
    "import pickle\n",
    "import numpy as np\n",
    "import pandas as pd\n",
    "import matplotlib.pyplot as plt\n",
    "import plotly.graph_objects as go\n",
    "\n",
    "cat, pgram = pickle.load(open(\"out/results.pkl\", \"rb\"))\n",
    "periods = pgram[0]\n",
    "sigls = pgram[1][0]\n",
    "sigce = pgram[1][1]\n",
    "sigaov = pgram[1][2]"
   ]
  },
  {
   "cell_type": "code",
   "execution_count": 17,
   "metadata": {},
   "outputs": [],
   "source": [
    "def fold_for_axis(t, y, p):\n",
    "    x = t % p\n",
    "    x = x / p\n",
    "    x = np.concatenate([x, x + 1])\n",
    "    y = np.concatenate([y, y])\n",
    "    return x,y\n",
    "\n",
    "def plot_folds(row):\n",
    "    title = row[\"designation\"] + \"ref\"\n",
    "    t = row[\"time\"]\n",
    "    y = row[\"mag\"]\n",
    "    p_t = row[\"period\"]\n",
    "\n",
    "\n",
    "    p1, ps1 = row[\"peak1\"], row[\"peak1_sig\"]\n",
    "    p2, ps2 = row[\"peak2\"], row[\"peak2_sig\"]\n",
    "    plp, pslp = row[\"best_long_period\"], row[\"best_long_period_sig\"]\n",
    "\n",
    "    # make 4-part subplots\n",
    "    fig, axs = plt.subplots(2, 2, figsize=(10, 10))\n",
    "\n",
    "    # top right: full light curve\n",
    "    axs[0, 0].plot(t, y, \".\", label=\"Full Light Curve\")\n",
    "    axs[0, 1].plot(*fold_for_axis(t, y, p_t), \".\", label=\"Correct Period: {}\".format(p_t))\n",
    "    axs[1, 0].plot(*fold_for_axis(t, y, p1), \".\", label=f\"Peak 1: {p1} @ sig {ps1}\")\n",
    "    axs[1, 1].plot(*fold_for_axis(t, y, p2), \".\", label=f\"Peak 2: {p2} @ sig {ps2}\")\n",
    "\n",
    "    # title each subplot\n",
    "    axs[0, 0].set_title(\"Full Light Curve\")\n",
    "    axs[0, 1].set_title(\"Correct Period: %.5f\" % p_t)\n",
    "    axs[1, 0].set_title(f\"Peak 1: {p1} @ sig {np.round(ps1, 3)}\")\n",
    "    axs[1, 1].set_title(f\"Peak 2: {p2} @ sig {np.round(ps2, 3)}\")\n",
    "\n",
    "    return fig\n",
    "\n",
    "def plot_pgram(periods, sigls, sigce, sigaov):\n",
    "    x = periods \n",
    "    fig = go.Figure()\n",
    "    fig.add_trace(go.Scatter(x=x, y=np.concatenate((np.zeros(len(x) - len(sigls)), sigls)), mode='lines', name='Lomb-Scargle'))\n",
    "    fig.add_trace(go.Scatter(x=x, y=sigaov, mode='lines', name='AOV'))\n",
    "\n",
    "    # make x log-scale\n",
    "    fig.update_xaxes(type=\"log\")\n",
    "\n",
    "    return fig\n",
    "\n",
    "i = 0"
   ]
  },
  {
   "cell_type": "code",
   "execution_count": null,
   "metadata": {},
   "outputs": [],
   "source": [
    "NAME = \"VarWISE J054556.98-703604.2\"\n",
    "row = cat.loc[cat[\"designation\"] == NAME]\n",
    "i = row.index[0]\n",
    "row = row.iloc[0]\n",
    "print(row)\n",
    "\n",
    "print(\"Shortcadence: \", np.median(np.diff(row[\"time\"])))\n",
    "folds = plot_folds(row)\n",
    "folds.show()\n",
    "pgrams = plot_pgram(periods, sigls[i], sigce[i], sigaov[i])\n",
    "pgrams.show()\n",
    "i += 1"
   ]
  }
 ],
 "metadata": {
  "kernelspec": {
   "display_name": "base",
   "language": "python",
   "name": "python3"
  },
  "language_info": {
   "codemirror_mode": {
    "name": "ipython",
    "version": 3
   },
   "file_extension": ".py",
   "mimetype": "text/x-python",
   "name": "python",
   "nbconvert_exporter": "python",
   "pygments_lexer": "ipython3",
   "version": "3.11.7"
  }
 },
 "nbformat": 4,
 "nbformat_minor": 2
}
