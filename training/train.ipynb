{
 "cells": [
  {
   "cell_type": "code",
   "execution_count": null,
   "metadata": {},
   "outputs": [],
   "source": [
    "%load_ext autoreload\n",
    "%autoreload 2\n",
    "import pickle \n",
    "import torch\n",
    "import numpy as np\n",
    "import pandas as pd\n",
    "from model import *\n",
    "from datagen.genset import GenSet\n",
    "from training_helpers import *\n",
    "from torch.utils.data import DataLoader\n",
    "from sklearn.metrics import f1_score\n",
    "\n",
    "torch.multiprocessing.set_start_method('spawn')\n",
    "device = \"cuda\" if torch.cuda.is_available() else \"cpu\"\n",
    "torch.set_default_device(device)\n",
    "torch.set_default_dtype(torch.float32)"
   ]
  },
  {
   "cell_type": "code",
   "execution_count": null,
   "metadata": {},
   "outputs": [],
   "source": [
    "train = GenSet(128*3, randseed=0)\n",
    "traini = DataLoader(train, batch_size=None, num_workers=18)\n",
    "valid = pickle.load(open(\"./valid/valid_data.pkl\", \"rb\"))\n",
    "valid = (valid[0].to(device), valid[1].to(device), valid[2], valid[3])"
   ]
  },
  {
   "cell_type": "code",
   "execution_count": null,
   "metadata": {},
   "outputs": [],
   "source": [
    "ITERATIONS_PER_EPOCH = 40\n",
    "# MODEL_NAME = \"3class\"\n",
    "MODEL_NAME = None\n",
    "\n",
    "train = GenSet(128*3, randseed=0)\n",
    "traini = DataLoader(train, batch_size=None, num_workers=24)\n",
    "torch.random.manual_seed(10)\n",
    "\n",
    "if MODEL_NAME:\n",
    "    params = pickle.load(open(f\"./models/{MODEL_NAME}.pkl\", \"rb\"))\n",
    "    model = WCNFourierModel(**params).to(device)\n",
    "    model.load_state_dict(torch.load(f\"./models/{MODEL_NAME}.pt\"))\n",
    "    model.train()\n",
    "else:\n",
    "    params = {\"samples\": 700, \"out\": 3, \"wavelet\": \"bior2.2\"}\n",
    "    model = WCNFourierModel(**params).to(device)\n",
    "\n",
    "optim = torch.optim.AdamW(model.parameters(), lr=0.000075, weight_decay=10**-5.5, amsgrad=True)\n",
    "scheduler = torch.optim.lr_scheduler.ReduceLROnPlateau(optim, factor=0.5, patience=15, threshold=0.0001, \n",
    "                        threshold_mode='rel', cooldown=0, min_lr=0, eps=1e-08, mode=\"max\")\n",
    "lossfn = torch.nn.CrossEntropyLoss().to(device)\n",
    "epoch_training_losses = []\n",
    "epoch_validations = []\n",
    "\n",
    "epoch = 0\n",
    "for batch, label in traini:\n",
    "    epoch_training_loss = []\n",
    "    optim.zero_grad()\n",
    "    out = model(batch)\n",
    "    loss = lossfn(out, label)\n",
    "    loss.backward()\n",
    "    optim.step()\n",
    "\n",
    "    epoch_training_loss.append(loss.item())\n",
    "\n",
    "    if epoch % ITERATIONS_PER_EPOCH == 0:\n",
    "        model.eval()\n",
    "        data, label, types, names = valid\n",
    "        out = model(data.cuda())\n",
    "\n",
    "        loss = lossfn(out, label.cuda())\n",
    "\n",
    "        true_y = torch.argmax(label, dim=1).flatten().cpu().numpy()\n",
    "        pred_y = torch.argmax(out, dim=1).flatten().cpu().numpy()\n",
    "\n",
    "        epoch_training_losses.append(np.mean(epoch_training_loss))\n",
    "        epoch_validations.append({\"true_y\": true_y, \"pred_y\": pred_y, \"true_type_y\": types, \"names\": names, \"loss\": loss.cpu().item()})\n",
    "        f1 = f1_score(true_y, pred_y, average=\"macro\")\n",
    "        # save model to {f1}.pt\n",
    "        if f1 > 0.916:\n",
    "            torch.save(model.state_dict(), f\"./models/{f1}.pt\")\n",
    "            pickle.dump(params, open(f\"./models/{f1}.pkl\", \"wb\"))\n",
    "        scheduler.step(f1)\n",
    "        if epoch % 10 * ITERATIONS_PER_EPOCH == 0:\n",
    "            training_plot(epoch_training_losses, epoch_validations, xrange=750)\n",
    "    \n",
    "    epoch += 1\n",
    "\n"
   ]
  }
 ],
 "metadata": {
  "kernelspec": {
   "display_name": "base",
   "language": "python",
   "name": "python3"
  },
  "language_info": {
   "codemirror_mode": {
    "name": "ipython",
    "version": 3
   },
   "file_extension": ".py",
   "mimetype": "text/x-python",
   "name": "python",
   "nbconvert_exporter": "python",
   "pygments_lexer": "ipython3",
   "version": "3.11.7"
  }
 },
 "nbformat": 4,
 "nbformat_minor": 2
}
